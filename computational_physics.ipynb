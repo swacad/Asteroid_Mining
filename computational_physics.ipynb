{
 "cells": [
  {
   "cell_type": "markdown",
   "metadata": {},
   "source": [
    "Computational physics\n",
    "Pramod Gupta\n",
    "Research Scientist\n",
    "University of Washington\n",
    "\n"
   ]
  },
  {
   "cell_type": "code",
   "execution_count": null,
   "metadata": {
    "collapsed": true
   },
   "outputs": [],
   "source": [
    "import math\n",
    "import numpy as np\n",
    "import matplotlib.pyplot as plt\n",
    "\n",
    "epsilon = 0.001\n",
    "MAX_STEPS = 10000\n",
    "\n",
    "x_init = 0.5\n",
    "y_init = 0.0\n",
    "vx_init = 0.0\n",
    "vy_init - 1.63\n",
    "\n",
    "x = [0,0] * MAX_STEPS"
   ]
  }
 ],
 "metadata": {
  "kernelspec": {
   "display_name": "Python 3",
   "language": "python",
   "name": "python3"
  },
  "language_info": {
   "codemirror_mode": {
    "name": "ipython",
    "version": 3
   },
   "file_extension": ".py",
   "mimetype": "text/x-python",
   "name": "python",
   "nbconvert_exporter": "python",
   "pygments_lexer": "ipython3",
   "version": "3.5.1"
  }
 },
 "nbformat": 4,
 "nbformat_minor": 0
}
